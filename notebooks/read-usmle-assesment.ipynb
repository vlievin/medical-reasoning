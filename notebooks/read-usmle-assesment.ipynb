{
 "cells": [
  {
   "cell_type": "code",
   "execution_count": 4,
   "metadata": {
    "collapsed": true
   },
   "outputs": [
    {
     "data": {
      "text/plain": "==== \u001B[3;35mNone\u001B[0m \u001B[1m(\u001B[0m\u001B[33mn\u001B[0m=\u001B[1;36m50\u001B[0m\u001B[1m)\u001B[0m ====\n",
      "text/html": "<pre style=\"white-space:pre;overflow-x:auto;line-height:normal;font-family:Menlo,'DejaVu Sans Mono',consolas,'Courier New',monospace\">==== <span style=\"color: #800080; text-decoration-color: #800080; font-style: italic\">None</span> <span style=\"font-weight: bold\">(</span><span style=\"color: #808000; text-decoration-color: #808000\">n</span>=<span style=\"color: #008080; text-decoration-color: #008080; font-weight: bold\">50</span><span style=\"font-weight: bold\">)</span> ====\n</pre>\n"
     },
     "metadata": {},
     "output_type": "display_data"
    },
    {
     "data": {
      "text/plain": "         A: Reasoning success  B: Reasoning error  C: Knowledge success  \\\nsum                      \u001B[1;36m35.0\u001B[0m               \u001B[1;36m31.00\u001B[0m                 \u001B[1;36m36.00\u001B[0m   \naverage                   \u001B[1;36m0.7\u001B[0m                \u001B[1;36m0.62\u001B[0m                  \u001B[1;36m0.72\u001B[0m   \n\n         D: Knowledge error  E: Reading success  F: Reading error  \\\nsum                   \u001B[1;36m29.00\u001B[0m                \u001B[1;36m45.0\u001B[0m             \u001B[1;36m18.00\u001B[0m   \naverage                \u001B[1;36m0.58\u001B[0m                 \u001B[1;36m0.9\u001B[0m              \u001B[1;36m0.36\u001B[0m   \n\n         G: Fails to narrow down  H: sensible but incorrect  \nsum                        \u001B[1;36m16.00\u001B[0m                       \u001B[1;36m6.00\u001B[0m  \naverage                     \u001B[1;36m0.32\u001B[0m                       \u001B[1;36m0.12\u001B[0m  \n",
      "text/html": "<pre style=\"white-space:pre;overflow-x:auto;line-height:normal;font-family:Menlo,'DejaVu Sans Mono',consolas,'Courier New',monospace\">         A: Reasoning success  B: Reasoning error  C: Knowledge success  \\\nsum                      <span style=\"color: #008080; text-decoration-color: #008080; font-weight: bold\">35.0</span>               <span style=\"color: #008080; text-decoration-color: #008080; font-weight: bold\">31.00</span>                 <span style=\"color: #008080; text-decoration-color: #008080; font-weight: bold\">36.00</span>   \naverage                   <span style=\"color: #008080; text-decoration-color: #008080; font-weight: bold\">0.7</span>                <span style=\"color: #008080; text-decoration-color: #008080; font-weight: bold\">0.62</span>                  <span style=\"color: #008080; text-decoration-color: #008080; font-weight: bold\">0.72</span>   \n\n         D: Knowledge error  E: Reading success  F: Reading error  \\\nsum                   <span style=\"color: #008080; text-decoration-color: #008080; font-weight: bold\">29.00</span>                <span style=\"color: #008080; text-decoration-color: #008080; font-weight: bold\">45.0</span>             <span style=\"color: #008080; text-decoration-color: #008080; font-weight: bold\">18.00</span>   \naverage                <span style=\"color: #008080; text-decoration-color: #008080; font-weight: bold\">0.58</span>                 <span style=\"color: #008080; text-decoration-color: #008080; font-weight: bold\">0.9</span>              <span style=\"color: #008080; text-decoration-color: #008080; font-weight: bold\">0.36</span>   \n\n         G: Fails to narrow down  H: sensible but incorrect  \nsum                        <span style=\"color: #008080; text-decoration-color: #008080; font-weight: bold\">16.00</span>                       <span style=\"color: #008080; text-decoration-color: #008080; font-weight: bold\">6.00</span>  \naverage                     <span style=\"color: #008080; text-decoration-color: #008080; font-weight: bold\">0.32</span>                       <span style=\"color: #008080; text-decoration-color: #008080; font-weight: bold\">0.12</span>  \n</pre>\n"
     },
     "metadata": {},
     "output_type": "display_data"
    },
    {
     "data": {
      "text/plain": "==== \u001B[1;36m0\u001B[0m \u001B[1m(\u001B[0m\u001B[33mn\u001B[0m=\u001B[1;36m34\u001B[0m\u001B[1m)\u001B[0m ====\n",
      "text/html": "<pre style=\"white-space:pre;overflow-x:auto;line-height:normal;font-family:Menlo,'DejaVu Sans Mono',consolas,'Courier New',monospace\">==== <span style=\"color: #008080; text-decoration-color: #008080; font-weight: bold\">0</span> <span style=\"font-weight: bold\">(</span><span style=\"color: #808000; text-decoration-color: #808000\">n</span>=<span style=\"color: #008080; text-decoration-color: #008080; font-weight: bold\">34</span><span style=\"font-weight: bold\">)</span> ====\n</pre>\n"
     },
     "metadata": {},
     "output_type": "display_data"
    },
    {
     "data": {
      "text/plain": "         A: Reasoning success  B: Reasoning error  C: Knowledge success  \\\nsum                 \u001B[1;36m20.000000\u001B[0m           \u001B[1;36m29.000000\u001B[0m             \u001B[1;36m22.000000\u001B[0m   \naverage              \u001B[1;36m0.588235\u001B[0m            \u001B[1;36m0.852941\u001B[0m              \u001B[1;36m0.647059\u001B[0m   \n\n         D: Knowledge error  E: Reading success  F: Reading error  \\\nsum               \u001B[1;36m25.000000\u001B[0m           \u001B[1;36m29.000000\u001B[0m              \u001B[1;36m17.0\u001B[0m   \naverage            \u001B[1;36m0.735294\u001B[0m            \u001B[1;36m0.852941\u001B[0m               \u001B[1;36m0.5\u001B[0m   \n\n         G: Fails to narrow down  H: sensible but incorrect  \nsum                    \u001B[1;36m16.000000\u001B[0m                   \u001B[1;36m6.000000\u001B[0m  \naverage                 \u001B[1;36m0.470588\u001B[0m                   \u001B[1;36m0.176471\u001B[0m  \n",
      "text/html": "<pre style=\"white-space:pre;overflow-x:auto;line-height:normal;font-family:Menlo,'DejaVu Sans Mono',consolas,'Courier New',monospace\">         A: Reasoning success  B: Reasoning error  C: Knowledge success  \\\nsum                 <span style=\"color: #008080; text-decoration-color: #008080; font-weight: bold\">20.000000</span>           <span style=\"color: #008080; text-decoration-color: #008080; font-weight: bold\">29.000000</span>             <span style=\"color: #008080; text-decoration-color: #008080; font-weight: bold\">22.000000</span>   \naverage              <span style=\"color: #008080; text-decoration-color: #008080; font-weight: bold\">0.588235</span>            <span style=\"color: #008080; text-decoration-color: #008080; font-weight: bold\">0.852941</span>              <span style=\"color: #008080; text-decoration-color: #008080; font-weight: bold\">0.647059</span>   \n\n         D: Knowledge error  E: Reading success  F: Reading error  \\\nsum               <span style=\"color: #008080; text-decoration-color: #008080; font-weight: bold\">25.000000</span>           <span style=\"color: #008080; text-decoration-color: #008080; font-weight: bold\">29.000000</span>              <span style=\"color: #008080; text-decoration-color: #008080; font-weight: bold\">17.0</span>   \naverage            <span style=\"color: #008080; text-decoration-color: #008080; font-weight: bold\">0.735294</span>            <span style=\"color: #008080; text-decoration-color: #008080; font-weight: bold\">0.852941</span>               <span style=\"color: #008080; text-decoration-color: #008080; font-weight: bold\">0.5</span>   \n\n         G: Fails to narrow down  H: sensible but incorrect  \nsum                    <span style=\"color: #008080; text-decoration-color: #008080; font-weight: bold\">16.000000</span>                   <span style=\"color: #008080; text-decoration-color: #008080; font-weight: bold\">6.000000</span>  \naverage                 <span style=\"color: #008080; text-decoration-color: #008080; font-weight: bold\">0.470588</span>                   <span style=\"color: #008080; text-decoration-color: #008080; font-weight: bold\">0.176471</span>  \n</pre>\n"
     },
     "metadata": {},
     "output_type": "display_data"
    },
    {
     "data": {
      "text/plain": "==== \u001B[1;36m1\u001B[0m \u001B[1m(\u001B[0m\u001B[33mn\u001B[0m=\u001B[1;36m16\u001B[0m\u001B[1m)\u001B[0m ====\n",
      "text/html": "<pre style=\"white-space:pre;overflow-x:auto;line-height:normal;font-family:Menlo,'DejaVu Sans Mono',consolas,'Courier New',monospace\">==== <span style=\"color: #008080; text-decoration-color: #008080; font-weight: bold\">1</span> <span style=\"font-weight: bold\">(</span><span style=\"color: #808000; text-decoration-color: #808000\">n</span>=<span style=\"color: #008080; text-decoration-color: #008080; font-weight: bold\">16</span><span style=\"font-weight: bold\">)</span> ====\n</pre>\n"
     },
     "metadata": {},
     "output_type": "display_data"
    },
    {
     "data": {
      "text/plain": "         A: Reasoning success  B: Reasoning error  C: Knowledge success  \\\nsum                   \u001B[1;36m15.0000\u001B[0m               \u001B[1;36m2.000\u001B[0m                \u001B[1;36m14.000\u001B[0m   \naverage                \u001B[1;36m0.9375\u001B[0m               \u001B[1;36m0.125\u001B[0m                 \u001B[1;36m0.875\u001B[0m   \n\n         D: Knowledge error  E: Reading success  F: Reading error  \\\nsum                    \u001B[1;36m4.00\u001B[0m                \u001B[1;36m16.0\u001B[0m            \u001B[1;36m1.0000\u001B[0m   \naverage                \u001B[1;36m0.25\u001B[0m                 \u001B[1;36m1.0\u001B[0m            \u001B[1;36m0.0625\u001B[0m   \n\n         G: Fails to narrow down  H: sensible but incorrect  \nsum                          \u001B[1;36m0.0\u001B[0m                        \u001B[1;36m0.0\u001B[0m  \naverage                      \u001B[1;36m0.0\u001B[0m                        \u001B[1;36m0.0\u001B[0m  \n",
      "text/html": "<pre style=\"white-space:pre;overflow-x:auto;line-height:normal;font-family:Menlo,'DejaVu Sans Mono',consolas,'Courier New',monospace\">         A: Reasoning success  B: Reasoning error  C: Knowledge success  \\\nsum                   <span style=\"color: #008080; text-decoration-color: #008080; font-weight: bold\">15.0000</span>               <span style=\"color: #008080; text-decoration-color: #008080; font-weight: bold\">2.000</span>                <span style=\"color: #008080; text-decoration-color: #008080; font-weight: bold\">14.000</span>   \naverage                <span style=\"color: #008080; text-decoration-color: #008080; font-weight: bold\">0.9375</span>               <span style=\"color: #008080; text-decoration-color: #008080; font-weight: bold\">0.125</span>                 <span style=\"color: #008080; text-decoration-color: #008080; font-weight: bold\">0.875</span>   \n\n         D: Knowledge error  E: Reading success  F: Reading error  \\\nsum                    <span style=\"color: #008080; text-decoration-color: #008080; font-weight: bold\">4.00</span>                <span style=\"color: #008080; text-decoration-color: #008080; font-weight: bold\">16.0</span>            <span style=\"color: #008080; text-decoration-color: #008080; font-weight: bold\">1.0000</span>   \naverage                <span style=\"color: #008080; text-decoration-color: #008080; font-weight: bold\">0.25</span>                 <span style=\"color: #008080; text-decoration-color: #008080; font-weight: bold\">1.0</span>            <span style=\"color: #008080; text-decoration-color: #008080; font-weight: bold\">0.0625</span>   \n\n         G: Fails to narrow down  H: sensible but incorrect  \nsum                          <span style=\"color: #008080; text-decoration-color: #008080; font-weight: bold\">0.0</span>                        <span style=\"color: #008080; text-decoration-color: #008080; font-weight: bold\">0.0</span>  \naverage                      <span style=\"color: #008080; text-decoration-color: #008080; font-weight: bold\">0.0</span>                        <span style=\"color: #008080; text-decoration-color: #008080; font-weight: bold\">0.0</span>  \n</pre>\n"
     },
     "metadata": {},
     "output_type": "display_data"
    }
   ],
   "source": [
    "import rich\n",
    "import pandas as pd\n",
    "path = \"../data/usmle-assesment.xlsx\"\n",
    "\n",
    "df = pd.read_excel(path)\n",
    "#rich.print(df)\n",
    "keys = [key for key in df.columns if \":\" in key]\n",
    "# df = df[:35]\n",
    "\n",
    "for outcome in [None, 0, 1]:\n",
    "    if outcome is None:\n",
    "        sub_df = df\n",
    "    else:\n",
    "        sub_df = df[df['Outcome'] == outcome]\n",
    "    rich.print(f\"==== {outcome} (n={len(sub_df)}) ====\")\n",
    "    rich.print(sub_df[keys].agg(['sum','average']))\n"
   ]
  },
  {
   "cell_type": "code",
   "execution_count": 3,
   "outputs": [],
   "source": [],
   "metadata": {
    "collapsed": false,
    "pycharm": {
     "name": "#%%\n"
    }
   }
  }
 ],
 "metadata": {
  "kernelspec": {
   "display_name": "Python 3",
   "language": "python",
   "name": "python3"
  },
  "language_info": {
   "codemirror_mode": {
    "name": "ipython",
    "version": 2
   },
   "file_extension": ".py",
   "mimetype": "text/x-python",
   "name": "python",
   "nbconvert_exporter": "python",
   "pygments_lexer": "ipython2",
   "version": "2.7.6"
  }
 },
 "nbformat": 4,
 "nbformat_minor": 0
}